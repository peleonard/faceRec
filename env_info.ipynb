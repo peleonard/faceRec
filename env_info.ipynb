{
 "cells": [
  {
   "cell_type": "markdown",
   "metadata": {},
   "source": [
    "For this project, it is recommended to create a virtual environment, in which \n",
    "\n",
    "python 2.7\n",
    "\n",
    "tensorflow==1.8.0\n",
    "\n",
    "keras==2.1.6\n",
    "\n",
    "By anaconda, it could be done using the following commands."
   ]
  },
  {
   "cell_type": "code",
   "execution_count": 1,
   "metadata": {},
   "outputs": [],
   "source": [
    "# conda create -n py36_faceRec python=2.7 pip ipython spyder jupyter\n",
    "# conda activate py36_faceRec\n",
    "\n",
    "# pip install tensorflow==1.9.0\n",
    "# pip install keras==2.1.6\n",
    "# pip install keras_vggface\n",
    "\n",
    "# pip install scikit-learn\n",
    "# pip install matplotlib\n",
    "\n",
    "# conda deactivate"
   ]
  },
  {
   "cell_type": "markdown",
   "metadata": {},
   "source": [
    "keras 2.1.6 is installed so that the following commands are valid. "
   ]
  },
  {
   "cell_type": "code",
   "execution_count": 2,
   "metadata": {},
   "outputs": [
    {
     "name": "stderr",
     "output_type": "stream",
     "text": [
      "Using TensorFlow backend.\n"
     ]
    },
    {
     "data": {
      "text/plain": [
       "(<function keras.applications.mobilenet.relu6>,\n",
       " keras.layers.convolutional.DepthwiseConv2D)"
      ]
     },
     "execution_count": 2,
     "metadata": {},
     "output_type": "execute_result"
    }
   ],
   "source": [
    "from keras.applications import mobilenet\n",
    "\n",
    "mobilenet.relu6, mobilenet.DepthwiseConv2D"
   ]
  },
  {
   "cell_type": "code",
   "execution_count": null,
   "metadata": {},
   "outputs": [],
   "source": []
  }
 ],
 "metadata": {
  "kernelspec": {
   "display_name": "Python [conda env:py27_faceRec]",
   "language": "python",
   "name": "conda-env-py27_faceRec-py"
  },
  "language_info": {
   "codemirror_mode": {
    "name": "ipython",
    "version": 2
   },
   "file_extension": ".py",
   "mimetype": "text/x-python",
   "name": "python",
   "nbconvert_exporter": "python",
   "pygments_lexer": "ipython2",
   "version": "2.7.15"
  }
 },
 "nbformat": 4,
 "nbformat_minor": 2
}
